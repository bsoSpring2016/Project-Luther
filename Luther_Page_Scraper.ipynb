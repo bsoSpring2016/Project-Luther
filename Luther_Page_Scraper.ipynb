{
 "cells": [
  {
   "cell_type": "code",
   "execution_count": 1,
   "metadata": {
    "collapsed": false
   },
   "outputs": [
    {
     "name": "stderr",
     "output_type": "stream",
     "text": [
      "C:\\Users\\kennd\\Anaconda3\\lib\\site-packages\\bs4\\__init__.py:166: UserWarning: No parser was explicitly specified, so I'm using the best available HTML parser for this system (\"lxml\"). This usually isn't a problem, but if you run this code on another system, or in a different virtual environment, it may use a different parser and behave differently.\n",
      "\n",
      "To get rid of this warning, change this:\n",
      "\n",
      " BeautifulSoup([your markup])\n",
      "\n",
      "to this:\n",
      "\n",
      " BeautifulSoup([your markup], \"lxml\")\n",
      "\n",
      "  markup_type=markup_type))\n"
     ]
    }
   ],
   "source": [
    "from bs4 import BeautifulSoup\n",
    "import requests\n",
    "import re\n",
    "url = 'http://www.boxofficemojo.com/movies/?id=fruitvale.htm'\n",
    "response = requests.get(url,headers={'Microsoft Edge':'Metis data science student scraping project'})\n",
    "soup = BeautifulSoup(response.text)"
   ]
  },
  {
   "cell_type": "markdown",
   "metadata": {},
   "source": [
    "## Subfunctions to extract data in page"
   ]
  },
  {
   "cell_type": "code",
   "execution_count": 2,
   "metadata": {
    "collapsed": false,
    "scrolled": true
   },
   "outputs": [],
   "source": [
    "##Get movie title\n",
    "def get_movie_title(soup):\n",
    "    return soup.find('title').text.split('-')[0].split('(')[0].strip()\n",
    "\n",
    "##Get movie domestic box office gross\n",
    "def get_movie_domestic_gross(soup):\n",
    "    return int(soup.find_all('b')[2].text.replace('$','').replace(',',''))\n",
    "\n",
    "##Get movie distributor\n",
    "def get_movie_distributor(soup):\n",
    "    return soup.find(text=re.compile('Distributor')).findNextSibling().text\n",
    "\n",
    "##Get movie release date\n",
    "def get_movie_release_date(soup):\n",
    "    return soup.find(text=re.compile('Release Date')).findNextSibling().text\n",
    "\n",
    "##Get movie genre\n",
    "def get_movie_genre(soup):\n",
    "    return soup.find(text=re.compile('Genre:')).findNextSibling().text\n",
    "\n",
    "##Get movie runtime\n",
    "def get_movie_runtime(soup):\n",
    "    runtime_string= soup.find(text=re.compile('Runtime')).findNextSibling().text.split()\n",
    "    return int(runtime_string[0])*60 + int(runtime_string[2])\n",
    "\n",
    "##Get movie MPAA rating\n",
    "def get_movie_mpaa_rating(soup):\n",
    "    try:\n",
    "        return soup.find(text=re.compile('MPAA')).findNextSibling().text\n",
    "    except:\n",
    "        return None\n",
    "\n",
    "##Get movie production budget\n",
    "def get_movie_prod_budget(soup):\n",
    "    prod_budget_string = soup.find(text=re.compile('Production Budget')).findNextSibling().text.replace('$','').replace(',','')\n",
    "    if 'million' in prod_budget_string:\n",
    "        return int(prod_budget_string.split()[0])\n",
    "    else:\n",
    "        return None\n",
    "\n",
    "##Get movie opening weekend gross\n",
    "def get_movie_weekend_gross(soup):\n",
    "    if soup.find(text=re.compile('Wide\\xa0Opening')):\n",
    "        return int(soup.find(text=re.compile('Wide\\xa0Opening')).findNext().text.replace('$','').replace(',',''))\n",
    "    elif soup.find(text=re.compile('Opening\\xa0Weekend')):\n",
    "        return int(soup.find(text=re.compile('Opening\\xa0Weekend')).findNext().text.replace('$','').replace(',',''))\n",
    "    else:\n",
    "        return None\n",
    "\n",
    "##Get movie in release days\n",
    "def get_movie_release_days(soup):\n",
    "    return soup.find(text=re.compile(\"In Release\")).findNext().text.strip().split()[0]"
   ]
  },
  {
   "cell_type": "code",
   "execution_count": 12,
   "metadata": {
    "collapsed": false
   },
   "outputs": [],
   "source": [
    "df = []\n",
    "def get_movie_data(soup):\n",
    "    datalist = []\n",
    "    datalist.append(get_movie_title(soup))\n",
    "    datalist.append(get_movie_domestic_gross(soup))\n",
    "    datalist.append(get_movie_distributor(soup))\n",
    "    datalist.append(get_movie_release_date(soup))\n",
    "    datalist.append(get_movie_genre(soup))\n",
    "    datalist.append(get_movie_runtime(soup))\n",
    "    datalist.append(get_movie_mpaa_rating(soup))\n",
    "    datalist.append(get_movie_prod_budget(soup))\n",
    "    datalist.append(get_movie_weekend_gross(soup))\n",
    "    datalist.append(get_movie_release_days(soup))\n",
    "    df.append df"
   ]
  },
  {
   "cell_type": "code",
   "execution_count": 13,
   "metadata": {
    "collapsed": false
   },
   "outputs": [
    {
     "data": {
      "text/plain": [
       "['Fruitvale Station',\n",
       " 16101339,\n",
       " 'Weinstein Company',\n",
       " 'July 12, 2013',\n",
       " 'Drama',\n",
       " 90,\n",
       " 'R',\n",
       " None,\n",
       " 4590219,\n",
       " '112']"
      ]
     },
     "execution_count": 13,
     "metadata": {},
     "output_type": "execute_result"
    }
   ],
   "source": [
    "get_movie_data(soup)"
   ]
  },
  {
   "cell_type": "code",
   "execution_count": 19,
   "metadata": {
    "collapsed": false
   },
   "outputs": [],
   "source": [
    "import Luther_HTML"
   ]
  },
  {
   "cell_type": "code",
   "execution_count": 20,
   "metadata": {
    "collapsed": false
   },
   "outputs": [
    {
     "ename": "NameError",
     "evalue": "name 'htmllist' is not defined",
     "output_type": "error",
     "traceback": [
      "\u001b[1;31m---------------------------------------------------------------------------\u001b[0m",
      "\u001b[1;31mNameError\u001b[0m                                 Traceback (most recent call last)",
      "\u001b[1;32m<ipython-input-20-61315aeac9f6>\u001b[0m in \u001b[0;36m<module>\u001b[1;34m()\u001b[0m\n\u001b[1;32m----> 1\u001b[1;33m \u001b[0mhtmllist\u001b[0m\u001b[1;33m\u001b[0m\u001b[0m\n\u001b[0m",
      "\u001b[1;31mNameError\u001b[0m: name 'htmllist' is not defined"
     ]
    }
   ],
   "source": []
  },
  {
   "cell_type": "code",
   "execution_count": null,
   "metadata": {
    "collapsed": true
   },
   "outputs": [],
   "source": []
  }
 ],
 "metadata": {
  "kernelspec": {
   "display_name": "Python 3",
   "language": "python",
   "name": "python3"
  },
  "language_info": {
   "codemirror_mode": {
    "name": "ipython",
    "version": 3
   },
   "file_extension": ".py",
   "mimetype": "text/x-python",
   "name": "python",
   "nbconvert_exporter": "python",
   "pygments_lexer": "ipython3",
   "version": "3.5.1"
  }
 },
 "nbformat": 4,
 "nbformat_minor": 0
}
