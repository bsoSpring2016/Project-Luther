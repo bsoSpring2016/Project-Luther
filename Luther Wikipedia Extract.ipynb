{
 "cells": [
  {
   "cell_type": "code",
   "execution_count": 1,
   "metadata": {
    "collapsed": true
   },
   "outputs": [],
   "source": [
    "import pandas as pd"
   ]
  },
  {
   "cell_type": "code",
   "execution_count": 283,
   "metadata": {
    "collapsed": false
   },
   "outputs": [],
   "source": [
    "#Get the dataframe from wikipedia pages and combine\n",
    "df2015 = pd.read_html('http://www.the-numbers.com/movies/year/2015')\n",
    "df2014 = pd.read_html('http://www.the-numbers.com/movies/year/2014')\n",
    "df2015 = df2015[0]\n",
    "df2014 = df2014[0]\n",
    "df = df2015.append(df2014)\n",
    "df.reset_index(inplace=True)"
   ]
  },
  {
   "cell_type": "code",
   "execution_count": 284,
   "metadata": {
    "collapsed": false
   },
   "outputs": [],
   "source": [
    "## Define new columns\n",
    "df.columns  = list(df.iloc[0,:])\n",
    "\n",
    "##Removing uncessary rows and columns\n",
    "df.drop(df.index[0:2],inplace=True)\n",
    "df.drop(['Trailer','Genre','ProductionBudget','DomesticBox Officeto Date'],axis=1,inplace=True)\n",
    "\n",
    "## Fill Date NAs and remove other NAs\n",
    "df[\"Release Date\"] = df[\"Release Date\"].fillna(method='ffill')\n",
    "df.dropna(inplace=True)"
   ]
  },
  {
   "cell_type": "code",
   "execution_count": 285,
   "metadata": {
    "collapsed": false
   },
   "outputs": [],
   "source": [
    "df2 = df"
   ]
  },
  {
   "cell_type": "code",
   "execution_count": 286,
   "metadata": {
    "collapsed": false
   },
   "outputs": [
    {
     "name": "stdout",
     "output_type": "stream",
     "text": [
      "<class 'pandas.core.frame.DataFrame'>\n",
      "Int64Index: 4203 entries, 2 to 4584\n",
      "Data columns (total 3 columns):\n",
      "0               4203 non-null int64\n",
      "Release Date    4203 non-null object\n",
      "Movie           4203 non-null object\n",
      "dtypes: int64(1), object(2)\n",
      "memory usage: 131.3+ KB\n"
     ]
    }
   ],
   "source": [
    "df2.info()"
   ]
  },
  {
   "cell_type": "code",
   "execution_count": 288,
   "metadata": {
    "collapsed": false
   },
   "outputs": [],
   "source": [
    "import re\n",
    "def clean(x):\n",
    "    try:\n",
    "        return x.replace(\" \",\"\").replace(\"'\",\"\").replace(\"[\",\"\").replace(\"]\",\"\").replace(\"?\",\"\").replace(\"the\",\"\").lower().split(\":\")[0]\n",
    "    except:\n",
    "        return 'NaN'"
   ]
  },
  {
   "cell_type": "code",
   "execution_count": 289,
   "metadata": {
    "collapsed": true
   },
   "outputs": [],
   "source": [
    "df2[\"movie_parse\"] = df2[\"Movie\"].apply(clean)"
   ]
  },
  {
   "cell_type": "code",
   "execution_count": 297,
   "metadata": {
    "collapsed": false
   },
   "outputs": [
    {
     "data": {
      "text/html": [
       "<div>\n",
       "<table border=\"1\" class=\"dataframe\">\n",
       "  <thead>\n",
       "    <tr style=\"text-align: right;\">\n",
       "      <th></th>\n",
       "      <th>0</th>\n",
       "      <th>Release Date</th>\n",
       "      <th>Movie</th>\n",
       "      <th>movie_parse</th>\n",
       "    </tr>\n",
       "  </thead>\n",
       "  <tbody>\n",
       "    <tr>\n",
       "      <th>3165</th>\n",
       "      <td>424</td>\n",
       "      <td>April 11</td>\n",
       "      <td>Jesus People</td>\n",
       "      <td>jesuspeople</td>\n",
       "    </tr>\n",
       "    <tr>\n",
       "      <th>622</th>\n",
       "      <td>622</td>\n",
       "      <td>May 12</td>\n",
       "      <td>Jihad: Afghanistan's Holy War</td>\n",
       "      <td>jihad</td>\n",
       "    </tr>\n",
       "    <tr>\n",
       "      <th>4033</th>\n",
       "      <td>1292</td>\n",
       "      <td>October 27</td>\n",
       "      <td>The Purple Plain</td>\n",
       "      <td>thepurpleplain</td>\n",
       "    </tr>\n",
       "    <tr>\n",
       "      <th>1446</th>\n",
       "      <td>1446</td>\n",
       "      <td>October 15</td>\n",
       "      <td>Tab Hunter Confidential</td>\n",
       "      <td>tabhunterconfidential</td>\n",
       "    </tr>\n",
       "    <tr>\n",
       "      <th>859</th>\n",
       "      <td>859</td>\n",
       "      <td>June 26</td>\n",
       "      <td>Max</td>\n",
       "      <td>max</td>\n",
       "    </tr>\n",
       "    <tr>\n",
       "      <th>1221</th>\n",
       "      <td>1221</td>\n",
       "      <td>September 4</td>\n",
       "      <td>Dirty Weekend</td>\n",
       "      <td>dirtyweekend</td>\n",
       "    </tr>\n",
       "    <tr>\n",
       "      <th>4478</th>\n",
       "      <td>1737</td>\n",
       "      <td>December 31</td>\n",
       "      <td>The Nutcracker - Bolshoi 2014</td>\n",
       "      <td>thenutcracker-bolshoi2014</td>\n",
       "    </tr>\n",
       "    <tr>\n",
       "      <th>3039</th>\n",
       "      <td>298</td>\n",
       "      <td>March 14</td>\n",
       "      <td>Himizu</td>\n",
       "      <td>himizu</td>\n",
       "    </tr>\n",
       "    <tr>\n",
       "      <th>3666</th>\n",
       "      <td>925</td>\n",
       "      <td>August 13</td>\n",
       "      <td>Let’s Be Cops</td>\n",
       "      <td>let’sbecops</td>\n",
       "    </tr>\n",
       "    <tr>\n",
       "      <th>2085</th>\n",
       "      <td>2085</td>\n",
       "      <td>December 31</td>\n",
       "      <td>Etiquette for Mistresses</td>\n",
       "      <td>etiquetteformistresses</td>\n",
       "    </tr>\n",
       "  </tbody>\n",
       "</table>\n",
       "</div>"
      ],
      "text/plain": [
       "         0 Release Date                          Movie  \\\n",
       "3165   424     April 11                   Jesus People   \n",
       "622    622       May 12  Jihad: Afghanistan's Holy War   \n",
       "4033  1292   October 27               The Purple Plain   \n",
       "1446  1446   October 15        Tab Hunter Confidential   \n",
       "859    859      June 26                            Max   \n",
       "1221  1221  September 4                  Dirty Weekend   \n",
       "4478  1737  December 31  The Nutcracker - Bolshoi 2014   \n",
       "3039   298     March 14                         Himizu   \n",
       "3666   925    August 13                  Let’s Be Cops   \n",
       "2085  2085  December 31       Etiquette for Mistresses   \n",
       "\n",
       "                    movie_parse  \n",
       "3165                jesuspeople  \n",
       "622                       jihad  \n",
       "4033             thepurpleplain  \n",
       "1446      tabhunterconfidential  \n",
       "859                         max  \n",
       "1221               dirtyweekend  \n",
       "4478  thenutcracker-bolshoi2014  \n",
       "3039                     himizu  \n",
       "3666                let’sbecops  \n",
       "2085     etiquetteformistresses  "
      ]
     },
     "execution_count": 297,
     "metadata": {},
     "output_type": "execute_result"
    }
   ],
   "source": [
    "df2.sample(10)"
   ]
  },
  {
   "cell_type": "code",
   "execution_count": 271,
   "metadata": {
    "collapsed": false
   },
   "outputs": [
    {
     "name": "stdout",
     "output_type": "stream",
     "text": [
      "<class 'pandas.core.frame.DataFrame'>\n",
      "Int64Index: 4203 entries, 2 to 4584\n",
      "Data columns (total 4 columns):\n",
      "0               4203 non-null int64\n",
      "Release Date    4203 non-null object\n",
      "Movie           4203 non-null object\n",
      "movie_parse     4203 non-null object\n",
      "dtypes: int64(1), object(3)\n",
      "memory usage: 164.2+ KB\n"
     ]
    }
   ],
   "source": [
    "df2.info()"
   ]
  },
  {
   "cell_type": "code",
   "execution_count": null,
   "metadata": {
    "collapsed": true
   },
   "outputs": [],
   "source": []
  }
 ],
 "metadata": {
  "kernelspec": {
   "display_name": "Python 3",
   "language": "python",
   "name": "python3"
  },
  "language_info": {
   "codemirror_mode": {
    "name": "ipython",
    "version": 3
   },
   "file_extension": ".py",
   "mimetype": "text/x-python",
   "name": "python",
   "nbconvert_exporter": "python",
   "pygments_lexer": "ipython3",
   "version": "3.5.1"
  }
 },
 "nbformat": 4,
 "nbformat_minor": 0
}
