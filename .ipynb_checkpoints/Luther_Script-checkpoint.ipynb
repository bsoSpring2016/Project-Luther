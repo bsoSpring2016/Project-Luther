{
 "cells": [
  {
   "cell_type": "markdown",
   "metadata": {},
   "source": [
    "# 1.0 Getting movie links for scraping"
   ]
  },
  {
   "cell_type": "code",
   "execution_count": 413,
   "metadata": {
    "collapsed": false
   },
   "outputs": [],
   "source": [
    "# Get Soup\n",
    "import requests\n",
    "from bs4 import BeautifulSoup\n",
    "import re\n",
    "import dateutil.parser\n",
    "\n",
    "##Page list \n",
    "pagelist2015 = ['http://www.boxofficemojo.com/yearly/chart/?page=1&view=releasedate&view2=domestic&yr=2015&p=.htm','http://www.boxofficemojo.com/yearly/chart/?page=2&view=releasedate&view2=domestic&yr=2015&p=.htm','http://www.boxofficemojo.com/yearly/chart/?page=3&view=releasedate&view2=domestic&yr=2015&p=.htm','http://www.boxofficemojo.com/yearly/chart/?page=4&view=releasedate&view2=domestic&yr=2015&p=.htm','http://www.boxofficemojo.com/yearly/chart/?page=5&view=releasedate&view2=domestic&yr=2015&p=.htm','http://www.boxofficemojo.com/yearly/chart/?page=6&view=releasedate&view2=domestic&yr=2015&p=.htm','http://www.boxofficemojo.com/yearly/chart/?page=7&view=releasedate&view2=domestic&yr=2015&p=.htm']\n",
    "pagelist2014 = ['http://www.boxofficemojo.com/yearly/chart/?yr=2014&adjust_yr=2015&p=.htm','http://www.boxofficemojo.com/yearly/chart/?page=2&view=releasedate&view2=domestic&yr=2014&adjust_mo=&adjust_yr=2015&p=.htm','http://www.boxofficemojo.com/yearly/chart/?page=3&view=releasedate&view2=domestic&yr=2014&adjust_mo=&adjust_yr=2015&p=.htm','http://www.boxofficemojo.com/yearly/chart/?page=4&view=releasedate&view2=domestic&yr=2014&adjust_mo=&adjust_yr=2015&p=.htm','http://www.boxofficemojo.com/yearly/chart/?page=5&view=releasedate&view2=domestic&yr=2014&adjust_mo=&adjust_yr=2015&p=.htm','http://www.boxofficemojo.com/yearly/chart/?page=6&view=releasedate&view2=domestic&yr=2014&adjust_mo=&adjust_yr=2015&p=.htm','http://www.boxofficemojo.com/yearly/chart/?page=7&view=releasedate&view2=domestic&yr=2014&adjust_mo=&adjust_yr=2015&p=.htm']\n",
    "pagelist2013 = ['http://www.boxofficemojo.com/yearly/chart/?yr=2013&adjust_yr=2015&p=.htm','http://www.boxofficemojo.com/yearly/chart/?page=2&view=releasedate&view2=domestic&yr=2013&adjust_mo=&adjust_yr=2015&p=.htm','http://www.boxofficemojo.com/yearly/chart/?page=3&view=releasedate&view2=domestic&yr=2013&adjust_mo=&adjust_yr=2015&p=.htm','http://www.boxofficemojo.com/yearly/chart/?page=4&view=releasedate&view2=domestic&yr=2013&adjust_mo=&adjust_yr=2015&p=.htm','http://www.boxofficemojo.com/yearly/chart/?page=5&view=releasedate&view2=domestic&yr=2013&adjust_mo=&adjust_yr=2015&p=.htm','http://www.boxofficemojo.com/yearly/chart/?page=6&view=releasedate&view2=domestic&yr=2013&adjust_mo=&adjust_yr=2015&p=.htm','http://www.boxofficemojo.com/yearly/chart/?page=7&view=releasedate&view2=domestic&yr=2013&adjust_mo=&adjust_yr=2015&p=.htm']\n",
    "pagelist2012 = ['http://www.boxofficemojo.com/yearly/chart/?yr=2012&adjust_yr=2015&p=.htm','http://www.boxofficemojo.com/yearly/chart/?page=2&view=releasedate&view2=domestic&yr=2012&adjust_mo=&adjust_yr=2015&p=.htm','http://www.boxofficemojo.com/yearly/chart/?page=3&view=releasedate&view2=domestic&yr=2012&adjust_mo=&adjust_yr=2015&p=.htm','http://www.boxofficemojo.com/yearly/chart/?page=4&view=releasedate&view2=domestic&yr=2012&adjust_mo=&adjust_yr=2015&p=.htm','http://www.boxofficemojo.com/yearly/chart/?page=5&view=releasedate&view2=domestic&yr=2012&adjust_mo=&adjust_yr=2015&p=.htm','http://www.boxofficemojo.com/yearly/chart/?page=6&view=releasedate&view2=domestic&yr=2012&adjust_mo=&adjust_yr=2015&p=.htm','http://www.boxofficemojo.com/yearly/chart/?page=7&view=releasedate&view2=domestic&yr=2012&adjust_mo=&adjust_yr=2015&p=.htm']\n",
    "pagelist2011 = ['http://www.boxofficemojo.com/yearly/chart/?yr=2011&adjust_yr=2015&p=.htm','http://www.boxofficemojo.com/yearly/chart/?page=2&view=releasedate&view2=domestic&yr=2011&adjust_mo=&adjust_yr=2015&p=.htm','http://www.boxofficemojo.com/yearly/chart/?page=3&view=releasedate&view2=domestic&yr=2011&adjust_mo=&adjust_yr=2015&p=.htm','http://www.boxofficemojo.com/yearly/chart/?page=4&view=releasedate&view2=domestic&yr=2011&adjust_mo=&adjust_yr=2015&p=.htm','http://www.boxofficemojo.com/yearly/chart/?page=5&view=releasedate&view2=domestic&yr=2011&adjust_mo=&adjust_yr=2015&p=.htm','http://www.boxofficemojo.com/yearly/chart/?page=6&view=releasedate&view2=domestic&yr=2011&adjust_mo=&adjust_yr=2015&p=.htm','http://www.boxofficemojo.com/yearly/chart/?page=7&view=releasedate&view2=domestic&yr=2011&adjust_mo=&adjust_yr=2015&p=.htm']\n",
    "pagelist = pagelist2015 + pagelist2014 + pagelist2013 + pagelist2012 + pagelist2011"
   ]
  },
  {
   "cell_type": "code",
   "execution_count": 414,
   "metadata": {
    "collapsed": false
   },
   "outputs": [
    {
     "name": "stderr",
     "output_type": "stream",
     "text": [
      "C:\\Users\\kennd\\Anaconda3\\lib\\site-packages\\bs4\\__init__.py:166: UserWarning: No parser was explicitly specified, so I'm using the best available HTML parser for this system (\"lxml\"). This usually isn't a problem, but if you run this code on another system, or in a different virtual environment, it may use a different parser and behave differently.\n",
      "\n",
      "To get rid of this warning, change this:\n",
      "\n",
      " BeautifulSoup([your markup])\n",
      "\n",
      "to this:\n",
      "\n",
      " BeautifulSoup([your markup], \"lxml\")\n",
      "\n",
      "  markup_type=markup_type))\n"
     ]
    }
   ],
   "source": [
    "##Find movie links based on page list\n",
    "movielist = []\n",
    "for page in pagelist:\n",
    "    url = page\n",
    "    response = requests.get(url,headers={'Microsoft Edge':'Metis data science student scraping project'})\n",
    "    soup = BeautifulSoup(response.text)\n",
    "    for x in soup.find_all('a'):\n",
    "        try:\n",
    "            if \"/movies/?id\" in x['href']:\n",
    "                movielist.append(x['href'])\n",
    "            else:\n",
    "                continue\n",
    "        except:\n",
    "            continue\n",
    "            \n",
    "##Translate movie links into full html addresses\n",
    "htmllist = []\n",
    "for x in movielist:\n",
    "    htmllist.append('http://www.boxofficemojo.com'+x+'&adjust_yr=2015&p=.htm')"
   ]
  },
  {
   "cell_type": "code",
   "execution_count": 416,
   "metadata": {
    "collapsed": false
   },
   "outputs": [
    {
     "data": {
      "text/plain": [
       "3387"
      ]
     },
     "execution_count": 416,
     "metadata": {},
     "output_type": "execute_result"
    }
   ],
   "source": [
    "len(htmllist)"
   ]
  },
  {
   "cell_type": "markdown",
   "metadata": {},
   "source": [
    "# 2.0 Scraping Script"
   ]
  },
  {
   "cell_type": "markdown",
   "metadata": {
    "collapsed": true
   },
   "source": [
    "## Import BeautifulSoup and scraping modules\n",
    "from bs4 import BeautifulSoup\n",
    "import requests\n",
    "import re\n",
    "url = 'http://www.boxofficemojo.com/movies/?id=fruitvale.htm'\n",
    "response = requests.get(url,headers={'Microsoft Edge':'Metis data science student scraping project'})\n",
    "soup = BeautifulSoup(response.text)"
   ]
  },
  {
   "cell_type": "markdown",
   "metadata": {},
   "source": [
    "## 2.1 Subfunctions to extract data from movie webpages"
   ]
  },
  {
   "cell_type": "code",
   "execution_count": 417,
   "metadata": {
    "collapsed": false
   },
   "outputs": [],
   "source": [
    "##Get movie title\n",
    "def get_movie_title(soup):\n",
    "    try:\n",
    "        return soup.find('title').text.split('-')[0].split('(')[0].strip()\n",
    "    except:\n",
    "        return None\n",
    "\n",
    "##Get movie domestic box office gross\n",
    "def get_movie_domestic_gross(soup):\n",
    "    try:\n",
    "        return float(soup.find_all('b')[2].text.replace('$','').replace(',',''))/(10**6)\n",
    "    except:\n",
    "        return None\n",
    "    \n",
    "##Get movie distributor\n",
    "def get_movie_distributor(soup):\n",
    "    try:\n",
    "        return soup.find(text=re.compile('Distributor')).findNextSibling().text\n",
    "    except:\n",
    "        return None\n",
    "    \n",
    "##Get movie release date\n",
    "def get_movie_release_date(soup):\n",
    "    try:\n",
    "        datestring = soup.find(text=re.compile('Release Date')).findNextSibling().text\n",
    "        date = dateutil.parser.parse(datestring)\n",
    "        return date\n",
    "    except:\n",
    "        return None\n",
    "        \n",
    "##Get movie genre\n",
    "def get_movie_genre(soup):\n",
    "    try:\n",
    "        return soup.find(text=re.compile('Genre:')).findNextSibling().text.split()[0]\n",
    "    except:\n",
    "        return None\n",
    "    \n",
    "##Get movie runtime\n",
    "def get_movie_runtime(soup):\n",
    "    try:\n",
    "        runtime_string= soup.find(text=re.compile('Runtime')).findNextSibling().text.split()\n",
    "        return float(runtime_string[0])*60 + float(runtime_string[2])\n",
    "    except:\n",
    "        return None\n",
    "\n",
    "##Get movie MPAA rating\n",
    "def get_movie_mpaa_rating(soup):\n",
    "    try:\n",
    "        return soup.find(text=re.compile('MPAA')).findNextSibling().text\n",
    "    except:\n",
    "        return None\n",
    "\n",
    "##Get movie production budget\n",
    "def get_movie_prod_budget(soup):\n",
    "    try:\n",
    "        prod_budget_string = soup.find(text=re.compile('Production Budget')).findNextSibling().text.replace('$','').replace(',','')\n",
    "        if 'million' in prod_budget_string:\n",
    "            return float(prod_budget_string.split()[0])\n",
    "        else:\n",
    "            return None\n",
    "    except:\n",
    "        return None\n",
    "\n",
    "##Get movie opening weekend gross\n",
    "def get_movie_weekend_gross(soup):\n",
    "    if soup.find(text=re.compile('Wide\\xa0Opening')):\n",
    "        try:\n",
    "            return float(soup.find(text=re.compile('Wide\\xa0Opening')).findNext().text.replace('$','').replace(',',''))/(10**6)\n",
    "        except:\n",
    "            return None\n",
    "    elif soup.find(text=re.compile('Opening\\xa0Weekend')):\n",
    "        try:\n",
    "            return float(soup.find(text=re.compile('Opening\\xa0Weekend')).findNext().text.replace('$','').replace(',',''))/(10**6)\n",
    "        except:\n",
    "            return None\n",
    "    else:\n",
    "        return None\n",
    "\n",
    "##Get movie in release days\n",
    "def get_movie_release_days(soup):\n",
    "    try:\n",
    "        return abs(float(soup.find(text=re.compile(\"In Release\")).findNext().text.strip().split()[0]))\n",
    "    except:\n",
    "        return None"
   ]
  },
  {
   "cell_type": "markdown",
   "metadata": {},
   "source": [
    "## 2.2  Combine subfunctions into one function"
   ]
  },
  {
   "cell_type": "code",
   "execution_count": 418,
   "metadata": {
    "collapsed": true
   },
   "outputs": [],
   "source": [
    "def get_movie_data(soup):\n",
    "    datalist = []\n",
    "    datalist.append(get_movie_title(soup))\n",
    "    datalist.append(get_movie_domestic_gross(soup))\n",
    "    datalist.append(get_movie_distributor(soup))\n",
    "    datalist.append(get_movie_release_date(soup))\n",
    "    datalist.append(get_movie_genre(soup))\n",
    "    datalist.append(get_movie_runtime(soup))\n",
    "    datalist.append(get_movie_mpaa_rating(soup))\n",
    "    datalist.append(get_movie_prod_budget(soup))\n",
    "    datalist.append(get_movie_weekend_gross(soup))\n",
    "    datalist.append(get_movie_release_days(soup))\n",
    "    df.append(datalist)"
   ]
  },
  {
   "cell_type": "markdown",
   "metadata": {},
   "source": [
    "## 2.3 Loop through links and combine into one data frame"
   ]
  },
  {
   "cell_type": "code",
   "execution_count": 419,
   "metadata": {
    "collapsed": false,
    "scrolled": true
   },
   "outputs": [
    {
     "name": "stderr",
     "output_type": "stream",
     "text": [
      "C:\\Users\\kennd\\Anaconda3\\lib\\site-packages\\bs4\\__init__.py:166: UserWarning: No parser was explicitly specified, so I'm using the best available HTML parser for this system (\"lxml\"). This usually isn't a problem, but if you run this code on another system, or in a different virtual environment, it may use a different parser and behave differently.\n",
      "\n",
      "To get rid of this warning, change this:\n",
      "\n",
      " BeautifulSoup([your markup])\n",
      "\n",
      "to this:\n",
      "\n",
      " BeautifulSoup([your markup], \"lxml\")\n",
      "\n",
      "  markup_type=markup_type))\n"
     ]
    }
   ],
   "source": [
    "##Set df as master list\n",
    "df = []\n",
    "for link in htmllist:\n",
    "    response = requests.get(link,headers={'Microsoft Edge':'Metis data science student scraping project'})\n",
    "    soup = BeautifulSoup(response.text)\n",
    "    get_movie_data(soup)"
   ]
  },
  {
   "cell_type": "code",
   "execution_count": 424,
   "metadata": {
    "collapsed": false
   },
   "outputs": [
    {
     "data": {
      "text/plain": [
       "(3387, 10)"
      ]
     },
     "execution_count": 424,
     "metadata": {},
     "output_type": "execute_result"
    }
   ],
   "source": [
    "import pandas as pd\n",
    "DF = pd.DataFrame(df, columns = ['title','dom_gross_adj_2015','distributor','release_date','genre','runtime','rating','budget','weekend_gross','in_release_days'])\n",
    "DF.drop_duplicates()\n",
    "DF.shape"
   ]
  },
  {
   "cell_type": "markdown",
   "metadata": {},
   "source": [
    "### Checkpoint 1: Pickle"
   ]
  },
  {
   "cell_type": "code",
   "execution_count": 425,
   "metadata": {
    "collapsed": false
   },
   "outputs": [],
   "source": [
    "##Pickle\n",
    "import pickle\n",
    "with open('my_data.pkl', 'wb') as picklefile:\n",
    "    pickle.dump(DF, picklefile)"
   ]
  },
  {
   "cell_type": "code",
   "execution_count": 426,
   "metadata": {
    "collapsed": false
   },
   "outputs": [],
   "source": [
    "##Take out of jar\n",
    "import pickle\n",
    "import pandas as pd\n",
    "import numpy as np\n",
    "import math\n",
    "import matplotlib\n",
    "import datetime\n",
    "%matplotlib inline\n",
    "with open(\"my_data.pkl\", 'rb') as picklefile: \n",
    "    DF = pickle.load(picklefile)"
   ]
  },
  {
   "cell_type": "code",
   "execution_count": 473,
   "metadata": {
    "collapsed": false
   },
   "outputs": [],
   "source": [
    "DF2 = DF[(DF.dom_gross_adj_2015>1) & (DF.budget>1)].reset_index(drop=True)"
   ]
  },
  {
   "cell_type": "code",
   "execution_count": 474,
   "metadata": {
    "collapsed": false
   },
   "outputs": [],
   "source": [
    "def get_month(x):\n",
    "    return x.month\n",
    "\n",
    "def get_weekday(x):\n",
    "    return x.isoweekday()\n",
    "\n",
    "def get_monthday(x):\n",
    "    return x.day\n",
    "\n",
    "def get_year(x):\n",
    "    return x.year\n",
    "\n",
    "DF2[\"release_month\"] = DF2[\"release_date\"].apply(get_month)\n",
    "DF2[\"release_weekday\"] = DF2[\"release_date\"].apply(get_weekday)\n",
    "DF2[\"release_monthday\"] = DF2[\"release_date\"].apply(get_monthday)\n",
    "DF2[\"release_year\"] = DF2[\"release_date\"].apply(get_year)"
   ]
  },
  {
   "cell_type": "code",
   "execution_count": 475,
   "metadata": {
    "collapsed": false
   },
   "outputs": [],
   "source": [
    "##Create genre density count for each movie\n",
    "##Very slow but no choice but to loop through the data frame\n",
    "week_count_list = []\n",
    "for current_row in range(DF2.shape[0]):\n",
    "    week_count = 0.0\n",
    "    current_DF = DF2.iloc[current_row,:]\n",
    "    for compare_row in range(0,DF2.shape[0]):\n",
    "        compare_DF = DF2.iloc[compare_row,:]\n",
    "        try: \n",
    "            time_delta = abs((current_DF[3]-compare_DF[3]).days)\n",
    "        except:\n",
    "            time_delta = 0\n",
    "        if time_delta <= 7 and (current_DF[4] == compare_DF[4]):\n",
    "            week_count +=1\n",
    "    week_count_list.append(week_count)\n",
    "week_count_list = pd.Series(week_count_list)"
   ]
  },
  {
   "cell_type": "code",
   "execution_count": 476,
   "metadata": {
    "collapsed": false
   },
   "outputs": [],
   "source": [
    "##Create genre density count for each movie\n",
    "##Very slow but no choice but to loop through the data frame\n",
    "month_count_list = []\n",
    "for current_row in range(DF2.shape[0]):\n",
    "    month_count = 0.0\n",
    "    current_DF = DF2.iloc[current_row,:]\n",
    "    for compare_row in range(0,DF2.shape[0]):\n",
    "        compare_DF = DF2.iloc[compare_row,:]\n",
    "        try: \n",
    "            time_delta = abs((current_DF[3]-compare_DF[3]).days)\n",
    "        except:\n",
    "            time_delta = 0\n",
    "        if time_delta <= 30 and (current_DF[4] == compare_DF[4]):\n",
    "            month_count +=1\n",
    "    month_count_list.append(month_count)\n",
    "month_count_list = pd.Series(month_count_list)"
   ]
  },
  {
   "cell_type": "code",
   "execution_count": 477,
   "metadata": {
    "collapsed": true
   },
   "outputs": [],
   "source": [
    "##Create high budget density count for each movie\n",
    "##Very slow but no choice but to loop through the data frame\n",
    "budget_week_count_list = []\n",
    "for current_row in range(DF2.shape[0]):\n",
    "    week_count = 0.0\n",
    "    current_DF = DF2.iloc[current_row,:]\n",
    "    for compare_row in range(0,DF2.shape[0]):\n",
    "        compare_DF = DF2.iloc[compare_row,:]\n",
    "        try: \n",
    "            time_delta = abs((current_DF[3]-compare_DF[3]).days)\n",
    "        except:\n",
    "            time_delta = 0\n",
    "        if time_delta <= 7 and compare_DF.budget >= 100:\n",
    "            week_count +=1\n",
    "    budget_week_count_list.append(week_count)\n",
    "budget_week_count_list = pd.Series(budget_week_count_list)"
   ]
  },
  {
   "cell_type": "code",
   "execution_count": 478,
   "metadata": {
    "collapsed": false
   },
   "outputs": [],
   "source": [
    "##Create high budget density count for each movie\n",
    "##Very slow but no choice but to loop through the data frame\n",
    "budget_month_count_list = []\n",
    "for current_row in range(DF2.shape[0]):\n",
    "    month_count = 0.0\n",
    "    current_DF = DF2.iloc[current_row,:]\n",
    "    for compare_row in range(0,DF2.shape[0]):\n",
    "        compare_DF = DF2.iloc[compare_row,:]\n",
    "        try: \n",
    "            time_delta = abs((current_DF[3]-compare_DF[3]).days)\n",
    "        except:\n",
    "            time_delta = 0\n",
    "        if time_delta <= 30 and compare_DF.budget >= 100:\n",
    "            month_count +=1\n",
    "    budget_month_count_list.append(month_count)\n",
    "budget_month_count_list = pd.Series(budget_month_count_list)"
   ]
  },
  {
   "cell_type": "code",
   "execution_count": 479,
   "metadata": {
    "collapsed": false
   },
   "outputs": [],
   "source": [
    "DF2[\"week_genre_density_count\"] = week_count_list\n",
    "DF2[\"month_genre_density_count\"] = month_count_list\n",
    "DF2[\"week_budget_density_count\"] = budget_week_count_list\n",
    "DF2[\"month_budget_density_count\"] = budget_month_count_list\n",
    "DF2 = DF2[(DF2[\"release_year\"] >= 2011) & (DF2[\"release_year\"] < 2016)]"
   ]
  },
  {
   "cell_type": "code",
   "execution_count": 480,
   "metadata": {
    "collapsed": true
   },
   "outputs": [],
   "source": [
    "DF2.release_month = DF2.release_month.astype('category')\n",
    "DF2.release_weekday = DF2.release_weekday.astype('category')\n",
    "DF2.release_monthday = DF2.release_monthday.astype('category')\n",
    "DF2.release_year = DF2.release_year.astype('category')\n",
    "DF2.distributor = DF2.distributor.astype('category')\n",
    "DF2.genre = DF2.genre.astype('category')\n",
    "DF2.rating = DF2.rating.astype('category')"
   ]
  },
  {
   "cell_type": "markdown",
   "metadata": {},
   "source": [
    "### Checkpoint 2: Pickle"
   ]
  },
  {
   "cell_type": "code",
   "execution_count": 481,
   "metadata": {
    "collapsed": true
   },
   "outputs": [],
   "source": [
    "##Pickle checkpoint\n",
    "import pickle\n",
    "with open('my_data2.pkl', 'wb') as picklefile:\n",
    "    pickle.dump(DF2, picklefile)"
   ]
  },
  {
   "cell_type": "code",
   "execution_count": 482,
   "metadata": {
    "collapsed": true
   },
   "outputs": [],
   "source": [
    "with open(\"my_data2.pkl\", 'rb') as picklefile: \n",
    "    DF2 = pickle.load(picklefile)"
   ]
  },
  {
   "cell_type": "markdown",
   "metadata": {},
   "source": [
    "# 3.0 Exploratory Analysis"
   ]
  },
  {
   "cell_type": "markdown",
   "metadata": {},
   "source": [
    "# 4.0 Regression model"
   ]
  },
  {
   "cell_type": "code",
   "execution_count": 484,
   "metadata": {
    "collapsed": true
   },
   "outputs": [],
   "source": [
    "import statsmodels.formula.api as smf"
   ]
  },
  {
   "cell_type": "code",
   "execution_count": 485,
   "metadata": {
    "collapsed": true
   },
   "outputs": [],
   "source": [
    "DF3 = DF2.copy()"
   ]
  },
  {
   "cell_type": "code",
   "execution_count": 486,
   "metadata": {
    "collapsed": false
   },
   "outputs": [
    {
     "name": "stdout",
     "output_type": "stream",
     "text": [
      "<class 'pandas.core.frame.DataFrame'>\n",
      "Int64Index: 597 entries, 1 to 627\n",
      "Data columns (total 18 columns):\n",
      "title                         597 non-null object\n",
      "dom_gross_adj_2015            597 non-null float64\n",
      "distributor                   597 non-null category\n",
      "release_date                  597 non-null datetime64[ns]\n",
      "genre                         597 non-null category\n",
      "runtime                       595 non-null float64\n",
      "rating                        597 non-null category\n",
      "budget                        597 non-null float64\n",
      "weekend_gross                 551 non-null float64\n",
      "in_release_days               543 non-null float64\n",
      "release_month                 597 non-null category\n",
      "release_weekday               597 non-null category\n",
      "release_monthday              597 non-null category\n",
      "release_year                  597 non-null category\n",
      "week_genre_density_count      597 non-null float64\n",
      "month_genre_density_count     597 non-null float64\n",
      "week_budget_density_count     597 non-null float64\n",
      "month_budget_density_count    597 non-null float64\n",
      "dtypes: category(7), datetime64[ns](1), float64(9), object(1)\n",
      "memory usage: 61.0+ KB\n"
     ]
    }
   ],
   "source": [
    "DF3.info()"
   ]
  },
  {
   "cell_type": "code",
   "execution_count": 491,
   "metadata": {
    "collapsed": false
   },
   "outputs": [
    {
     "data": {
      "text/html": [
       "<table class=\"simpletable\">\n",
       "<caption>OLS Regression Results</caption>\n",
       "<tr>\n",
       "  <th>Dep. Variable:</th>    <td>dom_gross_adj_2015</td> <th>  R-squared:         </th> <td>   0.587</td>\n",
       "</tr>\n",
       "<tr>\n",
       "  <th>Model:</th>                    <td>OLS</td>        <th>  Adj. R-squared:    </th> <td>   0.564</td>\n",
       "</tr>\n",
       "<tr>\n",
       "  <th>Method:</th>              <td>Least Squares</td>   <th>  F-statistic:       </th> <td>   26.09</td>\n",
       "</tr>\n",
       "<tr>\n",
       "  <th>Date:</th>              <td>Fri, 22 Apr 2016</td>  <th>  Prob (F-statistic):</th> <td>1.01e-80</td>\n",
       "</tr>\n",
       "<tr>\n",
       "  <th>Time:</th>                  <td>15:40:09</td>      <th>  Log-Likelihood:    </th> <td> -2979.8</td>\n",
       "</tr>\n",
       "<tr>\n",
       "  <th>No. Observations:</th>       <td>   543</td>       <th>  AIC:               </th> <td>   6018.</td>\n",
       "</tr>\n",
       "<tr>\n",
       "  <th>Df Residuals:</th>           <td>   514</td>       <th>  BIC:               </th> <td>   6142.</td>\n",
       "</tr>\n",
       "<tr>\n",
       "  <th>Df Model:</th>               <td>    28</td>       <th>                     </th>     <td> </td>   \n",
       "</tr>\n",
       "<tr>\n",
       "  <th>Covariance Type:</th>       <td>nonrobust</td>     <th>                     </th>     <td> </td>   \n",
       "</tr>\n",
       "</table>\n",
       "<table class=\"simpletable\">\n",
       "<tr>\n",
       "               <td></td>                 <th>coef</th>     <th>std err</th>      <th>t</th>      <th>P>|t|</th> <th>[95.0% Conf. Int.]</th> \n",
       "</tr>\n",
       "<tr>\n",
       "  <th>Intercept</th>                  <td>  -15.7248</td> <td>   13.943</td> <td>   -1.128</td> <td> 0.260</td> <td>  -43.118    11.668</td>\n",
       "</tr>\n",
       "<tr>\n",
       "  <th>genre[T.Adventure]</th>         <td>  -71.4051</td> <td>   24.355</td> <td>   -2.932</td> <td> 0.004</td> <td> -119.252   -23.558</td>\n",
       "</tr>\n",
       "<tr>\n",
       "  <th>genre[T.Animation]</th>         <td>  -32.5713</td> <td>   12.556</td> <td>   -2.594</td> <td> 0.010</td> <td>  -57.239    -7.904</td>\n",
       "</tr>\n",
       "<tr>\n",
       "  <th>genre[T.Comedy]</th>            <td>    3.7920</td> <td>    9.331</td> <td>    0.406</td> <td> 0.685</td> <td>  -14.539    22.123</td>\n",
       "</tr>\n",
       "<tr>\n",
       "  <th>genre[T.Concert]</th>           <td>    4.4563</td> <td>   43.915</td> <td>    0.101</td> <td> 0.919</td> <td>  -81.820    90.732</td>\n",
       "</tr>\n",
       "<tr>\n",
       "  <th>genre[T.Crime]</th>             <td>  -25.7376</td> <td>   20.121</td> <td>   -1.279</td> <td> 0.201</td> <td>  -65.266    13.791</td>\n",
       "</tr>\n",
       "<tr>\n",
       "  <th>genre[T.Documentary]</th>       <td>   11.3474</td> <td>   36.326</td> <td>    0.312</td> <td> 0.755</td> <td>  -60.019    82.714</td>\n",
       "</tr>\n",
       "<tr>\n",
       "  <th>genre[T.Drama]</th>             <td>  -16.0818</td> <td>   10.708</td> <td>   -1.502</td> <td> 0.134</td> <td>  -37.118     4.954</td>\n",
       "</tr>\n",
       "<tr>\n",
       "  <th>genre[T.Family]</th>            <td>  -47.1100</td> <td>   18.909</td> <td>   -2.491</td> <td> 0.013</td> <td>  -84.258    -9.962</td>\n",
       "</tr>\n",
       "<tr>\n",
       "  <th>genre[T.Fantasy]</th>           <td>  -64.4050</td> <td>   19.391</td> <td>   -3.321</td> <td> 0.001</td> <td> -102.501   -26.309</td>\n",
       "</tr>\n",
       "<tr>\n",
       "  <th>genre[T.Foreign]</th>           <td>  -77.3219</td> <td>   31.760</td> <td>   -2.435</td> <td> 0.015</td> <td> -139.718   -14.926</td>\n",
       "</tr>\n",
       "<tr>\n",
       "  <th>genre[T.Historical]</th>        <td>  -32.3434</td> <td>   36.266</td> <td>   -0.892</td> <td> 0.373</td> <td> -103.592    38.905</td>\n",
       "</tr>\n",
       "<tr>\n",
       "  <th>genre[T.Horror]</th>            <td>    4.4684</td> <td>   13.284</td> <td>    0.336</td> <td> 0.737</td> <td>  -21.630    30.567</td>\n",
       "</tr>\n",
       "<tr>\n",
       "  <th>genre[T.Music]</th>             <td>   -3.5228</td> <td>   43.621</td> <td>   -0.081</td> <td> 0.936</td> <td>  -89.220    82.174</td>\n",
       "</tr>\n",
       "<tr>\n",
       "  <th>genre[T.Musical]</th>           <td>   -4.7262</td> <td>   23.277</td> <td>   -0.203</td> <td> 0.839</td> <td>  -50.456    41.004</td>\n",
       "</tr>\n",
       "<tr>\n",
       "  <th>genre[T.Period]</th>            <td>  -50.6503</td> <td>   31.375</td> <td>   -1.614</td> <td> 0.107</td> <td> -112.289    10.988</td>\n",
       "</tr>\n",
       "<tr>\n",
       "  <th>genre[T.Romance]</th>           <td>   34.8973</td> <td>   22.216</td> <td>    1.571</td> <td> 0.117</td> <td>   -8.749    78.543</td>\n",
       "</tr>\n",
       "<tr>\n",
       "  <th>genre[T.Romantic]</th>          <td>  -28.7218</td> <td>   21.298</td> <td>   -1.349</td> <td> 0.178</td> <td>  -70.563    13.119</td>\n",
       "</tr>\n",
       "<tr>\n",
       "  <th>genre[T.Sci-Fi]</th>            <td>  -26.4175</td> <td>   11.400</td> <td>   -2.317</td> <td> 0.021</td> <td>  -48.815    -4.020</td>\n",
       "</tr>\n",
       "<tr>\n",
       "  <th>genre[T.Sports]</th>            <td>  -23.7901</td> <td>   24.679</td> <td>   -0.964</td> <td> 0.336</td> <td>  -72.274    24.694</td>\n",
       "</tr>\n",
       "<tr>\n",
       "  <th>genre[T.Thriller]</th>          <td>   -6.7154</td> <td>   13.221</td> <td>   -0.508</td> <td> 0.612</td> <td>  -32.689    19.258</td>\n",
       "</tr>\n",
       "<tr>\n",
       "  <th>genre[T.War]</th>               <td>  -24.4152</td> <td>   31.535</td> <td>   -0.774</td> <td> 0.439</td> <td>  -86.369    37.539</td>\n",
       "</tr>\n",
       "<tr>\n",
       "  <th>genre[T.Western]</th>           <td>  -75.0160</td> <td>   31.432</td> <td>   -2.387</td> <td> 0.017</td> <td> -136.767   -13.265</td>\n",
       "</tr>\n",
       "<tr>\n",
       "  <th>budget</th>                     <td>    1.0336</td> <td>    0.066</td> <td>   15.682</td> <td> 0.000</td> <td>    0.904     1.163</td>\n",
       "</tr>\n",
       "<tr>\n",
       "  <th>in_release_days</th>            <td>    0.6885</td> <td>    0.068</td> <td>   10.161</td> <td> 0.000</td> <td>    0.555     0.822</td>\n",
       "</tr>\n",
       "<tr>\n",
       "  <th>week_genre_density_count</th>   <td>   -2.3456</td> <td>    4.110</td> <td>   -0.571</td> <td> 0.568</td> <td>  -10.421     5.730</td>\n",
       "</tr>\n",
       "<tr>\n",
       "  <th>month_genre_density_count</th>  <td>   -4.0871</td> <td>    2.259</td> <td>   -1.809</td> <td> 0.071</td> <td>   -8.526     0.352</td>\n",
       "</tr>\n",
       "<tr>\n",
       "  <th>week_budget_density_count</th>  <td>   -0.9945</td> <td>    3.404</td> <td>   -0.292</td> <td> 0.770</td> <td>   -7.682     5.693</td>\n",
       "</tr>\n",
       "<tr>\n",
       "  <th>month_budget_density_count</th> <td>   -0.1010</td> <td>    1.596</td> <td>   -0.063</td> <td> 0.950</td> <td>   -3.236     3.034</td>\n",
       "</tr>\n",
       "</table>\n",
       "<table class=\"simpletable\">\n",
       "<tr>\n",
       "  <th>Omnibus:</th>       <td>427.980</td> <th>  Durbin-Watson:     </th> <td>   1.261</td> \n",
       "</tr>\n",
       "<tr>\n",
       "  <th>Prob(Omnibus):</th> <td> 0.000</td>  <th>  Jarque-Bera (JB):  </th> <td>17554.754</td>\n",
       "</tr>\n",
       "<tr>\n",
       "  <th>Skew:</th>          <td> 3.034</td>  <th>  Prob(JB):          </th> <td>    0.00</td> \n",
       "</tr>\n",
       "<tr>\n",
       "  <th>Kurtosis:</th>      <td>30.186</td>  <th>  Cond. No.          </th> <td>2.49e+03</td> \n",
       "</tr>\n",
       "</table>"
      ],
      "text/plain": [
       "<class 'statsmodels.iolib.summary.Summary'>\n",
       "\"\"\"\n",
       "                            OLS Regression Results                            \n",
       "==============================================================================\n",
       "Dep. Variable:     dom_gross_adj_2015   R-squared:                       0.587\n",
       "Model:                            OLS   Adj. R-squared:                  0.564\n",
       "Method:                 Least Squares   F-statistic:                     26.09\n",
       "Date:                Fri, 22 Apr 2016   Prob (F-statistic):           1.01e-80\n",
       "Time:                        15:40:09   Log-Likelihood:                -2979.8\n",
       "No. Observations:                 543   AIC:                             6018.\n",
       "Df Residuals:                     514   BIC:                             6142.\n",
       "Df Model:                          28                                         \n",
       "Covariance Type:            nonrobust                                         \n",
       "==============================================================================================\n",
       "                                 coef    std err          t      P>|t|      [95.0% Conf. Int.]\n",
       "----------------------------------------------------------------------------------------------\n",
       "Intercept                    -15.7248     13.943     -1.128      0.260       -43.118    11.668\n",
       "genre[T.Adventure]           -71.4051     24.355     -2.932      0.004      -119.252   -23.558\n",
       "genre[T.Animation]           -32.5713     12.556     -2.594      0.010       -57.239    -7.904\n",
       "genre[T.Comedy]                3.7920      9.331      0.406      0.685       -14.539    22.123\n",
       "genre[T.Concert]               4.4563     43.915      0.101      0.919       -81.820    90.732\n",
       "genre[T.Crime]               -25.7376     20.121     -1.279      0.201       -65.266    13.791\n",
       "genre[T.Documentary]          11.3474     36.326      0.312      0.755       -60.019    82.714\n",
       "genre[T.Drama]               -16.0818     10.708     -1.502      0.134       -37.118     4.954\n",
       "genre[T.Family]              -47.1100     18.909     -2.491      0.013       -84.258    -9.962\n",
       "genre[T.Fantasy]             -64.4050     19.391     -3.321      0.001      -102.501   -26.309\n",
       "genre[T.Foreign]             -77.3219     31.760     -2.435      0.015      -139.718   -14.926\n",
       "genre[T.Historical]          -32.3434     36.266     -0.892      0.373      -103.592    38.905\n",
       "genre[T.Horror]                4.4684     13.284      0.336      0.737       -21.630    30.567\n",
       "genre[T.Music]                -3.5228     43.621     -0.081      0.936       -89.220    82.174\n",
       "genre[T.Musical]              -4.7262     23.277     -0.203      0.839       -50.456    41.004\n",
       "genre[T.Period]              -50.6503     31.375     -1.614      0.107      -112.289    10.988\n",
       "genre[T.Romance]              34.8973     22.216      1.571      0.117        -8.749    78.543\n",
       "genre[T.Romantic]            -28.7218     21.298     -1.349      0.178       -70.563    13.119\n",
       "genre[T.Sci-Fi]              -26.4175     11.400     -2.317      0.021       -48.815    -4.020\n",
       "genre[T.Sports]              -23.7901     24.679     -0.964      0.336       -72.274    24.694\n",
       "genre[T.Thriller]             -6.7154     13.221     -0.508      0.612       -32.689    19.258\n",
       "genre[T.War]                 -24.4152     31.535     -0.774      0.439       -86.369    37.539\n",
       "genre[T.Western]             -75.0160     31.432     -2.387      0.017      -136.767   -13.265\n",
       "budget                         1.0336      0.066     15.682      0.000         0.904     1.163\n",
       "in_release_days                0.6885      0.068     10.161      0.000         0.555     0.822\n",
       "week_genre_density_count      -2.3456      4.110     -0.571      0.568       -10.421     5.730\n",
       "month_genre_density_count     -4.0871      2.259     -1.809      0.071        -8.526     0.352\n",
       "week_budget_density_count     -0.9945      3.404     -0.292      0.770        -7.682     5.693\n",
       "month_budget_density_count    -0.1010      1.596     -0.063      0.950        -3.236     3.034\n",
       "==============================================================================\n",
       "Omnibus:                      427.980   Durbin-Watson:                   1.261\n",
       "Prob(Omnibus):                  0.000   Jarque-Bera (JB):            17554.754\n",
       "Skew:                           3.034   Prob(JB):                         0.00\n",
       "Kurtosis:                      30.186   Cond. No.                     2.49e+03\n",
       "==============================================================================\n",
       "\n",
       "Warnings:\n",
       "[1] Standard Errors assume that the covariance matrix of the errors is correctly specified.\n",
       "[2] The condition number is large, 2.49e+03. This might indicate that there are\n",
       "strong multicollinearity or other numerical problems.\n",
       "\"\"\""
      ]
     },
     "execution_count": 491,
     "metadata": {},
     "output_type": "execute_result"
    }
   ],
   "source": [
    "lm1 = smf.ols('dom_gross_adj_2015 ~ budget + genre + in_release_days + week_genre_density_count + month_genre_density_count + week_budget_density_count + month_budget_density_count',data=DF3)\n",
    "fit1 = lm1.fit()\n",
    "fit1.summary()"
   ]
  },
  {
   "cell_type": "code",
   "execution_count": 492,
   "metadata": {
    "collapsed": false
   },
   "outputs": [
    {
     "data": {
      "text/html": [
       "<table class=\"simpletable\">\n",
       "<caption>OLS Regression Results</caption>\n",
       "<tr>\n",
       "  <th>Dep. Variable:</th>      <td>weekend_gross</td>  <th>  R-squared:         </th> <td>   0.584</td>\n",
       "</tr>\n",
       "<tr>\n",
       "  <th>Model:</th>                   <td>OLS</td>       <th>  Adj. R-squared:    </th> <td>   0.559</td>\n",
       "</tr>\n",
       "<tr>\n",
       "  <th>Method:</th>             <td>Least Squares</td>  <th>  F-statistic:       </th> <td>   23.62</td>\n",
       "</tr>\n",
       "<tr>\n",
       "  <th>Date:</th>             <td>Fri, 22 Apr 2016</td> <th>  Prob (F-statistic):</th> <td>2.93e-72</td>\n",
       "</tr>\n",
       "<tr>\n",
       "  <th>Time:</th>                 <td>15:40:09</td>     <th>  Log-Likelihood:    </th> <td> -2197.6</td>\n",
       "</tr>\n",
       "<tr>\n",
       "  <th>No. Observations:</th>      <td>   500</td>      <th>  AIC:               </th> <td>   4453.</td>\n",
       "</tr>\n",
       "<tr>\n",
       "  <th>Df Residuals:</th>          <td>   471</td>      <th>  BIC:               </th> <td>   4575.</td>\n",
       "</tr>\n",
       "<tr>\n",
       "  <th>Df Model:</th>              <td>    28</td>      <th>                     </th>     <td> </td>   \n",
       "</tr>\n",
       "<tr>\n",
       "  <th>Covariance Type:</th>      <td>nonrobust</td>    <th>                     </th>     <td> </td>   \n",
       "</tr>\n",
       "</table>\n",
       "<table class=\"simpletable\">\n",
       "<tr>\n",
       "               <td></td>                 <th>coef</th>     <th>std err</th>      <th>t</th>      <th>P>|t|</th> <th>[95.0% Conf. Int.]</th> \n",
       "</tr>\n",
       "<tr>\n",
       "  <th>Intercept</th>                  <td>    2.6182</td> <td>    5.031</td> <td>    0.520</td> <td> 0.603</td> <td>   -7.268    12.504</td>\n",
       "</tr>\n",
       "<tr>\n",
       "  <th>genre[T.Adventure]</th>         <td>  -34.2472</td> <td>    8.840</td> <td>   -3.874</td> <td> 0.000</td> <td>  -51.617   -16.877</td>\n",
       "</tr>\n",
       "<tr>\n",
       "  <th>genre[T.Animation]</th>         <td>  -23.3875</td> <td>    4.442</td> <td>   -5.266</td> <td> 0.000</td> <td>  -32.115   -14.660</td>\n",
       "</tr>\n",
       "<tr>\n",
       "  <th>genre[T.Comedy]</th>            <td>   -3.0398</td> <td>    3.233</td> <td>   -0.940</td> <td> 0.348</td> <td>   -9.393     3.314</td>\n",
       "</tr>\n",
       "<tr>\n",
       "  <th>genre[T.Concert]</th>           <td>   -2.3394</td> <td>   14.820</td> <td>   -0.158</td> <td> 0.875</td> <td>  -31.460    26.781</td>\n",
       "</tr>\n",
       "<tr>\n",
       "  <th>genre[T.Crime]</th>             <td>  -15.8112</td> <td>    7.095</td> <td>   -2.228</td> <td> 0.026</td> <td>  -29.754    -1.869</td>\n",
       "</tr>\n",
       "<tr>\n",
       "  <th>genre[T.Documentary]</th>       <td>   -2.6764</td> <td>   12.272</td> <td>   -0.218</td> <td> 0.827</td> <td>  -26.792    21.439</td>\n",
       "</tr>\n",
       "<tr>\n",
       "  <th>genre[T.Drama]</th>             <td>  -12.4654</td> <td>    3.905</td> <td>   -3.192</td> <td> 0.002</td> <td>  -20.140    -4.791</td>\n",
       "</tr>\n",
       "<tr>\n",
       "  <th>genre[T.Family]</th>            <td>  -27.7245</td> <td>    6.461</td> <td>   -4.291</td> <td> 0.000</td> <td>  -40.421   -15.028</td>\n",
       "</tr>\n",
       "<tr>\n",
       "  <th>genre[T.Fantasy]</th>           <td>  -27.1269</td> <td>    6.600</td> <td>   -4.110</td> <td> 0.000</td> <td>  -40.096   -14.158</td>\n",
       "</tr>\n",
       "<tr>\n",
       "  <th>genre[T.Foreign]</th>           <td>  -32.7027</td> <td>   10.800</td> <td>   -3.028</td> <td> 0.003</td> <td>  -53.924   -11.481</td>\n",
       "</tr>\n",
       "<tr>\n",
       "  <th>genre[T.Historical]</th>        <td>  -30.3627</td> <td>   14.824</td> <td>   -2.048</td> <td> 0.041</td> <td>  -59.492    -1.234</td>\n",
       "</tr>\n",
       "<tr>\n",
       "  <th>genre[T.Horror]</th>            <td>   -1.4552</td> <td>    4.557</td> <td>   -0.319</td> <td> 0.750</td> <td>  -10.409     7.499</td>\n",
       "</tr>\n",
       "<tr>\n",
       "  <th>genre[T.Music]</th>             <td>   -5.2775</td> <td>   14.706</td> <td>   -0.359</td> <td> 0.720</td> <td>  -34.175    23.620</td>\n",
       "</tr>\n",
       "<tr>\n",
       "  <th>genre[T.Musical]</th>           <td>  -14.7040</td> <td>    7.901</td> <td>   -1.861</td> <td> 0.063</td> <td>  -30.229     0.821</td>\n",
       "</tr>\n",
       "<tr>\n",
       "  <th>genre[T.Period]</th>            <td>  -16.5243</td> <td>   10.599</td> <td>   -1.559</td> <td> 0.120</td> <td>  -37.351     4.303</td>\n",
       "</tr>\n",
       "<tr>\n",
       "  <th>genre[T.Romance]</th>           <td>   19.2878</td> <td>    7.551</td> <td>    2.554</td> <td> 0.011</td> <td>    4.450    34.126</td>\n",
       "</tr>\n",
       "<tr>\n",
       "  <th>genre[T.Romantic]</th>          <td>  -12.4533</td> <td>    7.541</td> <td>   -1.651</td> <td> 0.099</td> <td>  -27.271     2.365</td>\n",
       "</tr>\n",
       "<tr>\n",
       "  <th>genre[T.Sci-Fi]</th>            <td>  -14.5366</td> <td>    3.938</td> <td>   -3.691</td> <td> 0.000</td> <td>  -22.275    -6.798</td>\n",
       "</tr>\n",
       "<tr>\n",
       "  <th>genre[T.Sports]</th>            <td>  -17.1424</td> <td>    8.369</td> <td>   -2.048</td> <td> 0.041</td> <td>  -33.588    -0.697</td>\n",
       "</tr>\n",
       "<tr>\n",
       "  <th>genre[T.Thriller]</th>          <td>   -8.2826</td> <td>    4.613</td> <td>   -1.795</td> <td> 0.073</td> <td>  -17.348     0.782</td>\n",
       "</tr>\n",
       "<tr>\n",
       "  <th>genre[T.War]</th>               <td>  -17.0007</td> <td>   12.158</td> <td>   -1.398</td> <td> 0.163</td> <td>  -40.891     6.889</td>\n",
       "</tr>\n",
       "<tr>\n",
       "  <th>genre[T.Western]</th>           <td>  -43.1360</td> <td>   12.146</td> <td>   -3.551</td> <td> 0.000</td> <td>  -67.004   -19.268</td>\n",
       "</tr>\n",
       "<tr>\n",
       "  <th>budget</th>                     <td>    0.3288</td> <td>    0.023</td> <td>   14.042</td> <td> 0.000</td> <td>    0.283     0.375</td>\n",
       "</tr>\n",
       "<tr>\n",
       "  <th>in_release_days</th>            <td>    0.2233</td> <td>    0.028</td> <td>    7.982</td> <td> 0.000</td> <td>    0.168     0.278</td>\n",
       "</tr>\n",
       "<tr>\n",
       "  <th>week_genre_density_count</th>   <td>   -0.8027</td> <td>    1.438</td> <td>   -0.558</td> <td> 0.577</td> <td>   -3.628     2.023</td>\n",
       "</tr>\n",
       "<tr>\n",
       "  <th>month_genre_density_count</th>  <td>   -2.1822</td> <td>    0.806</td> <td>   -2.708</td> <td> 0.007</td> <td>   -3.766    -0.599</td>\n",
       "</tr>\n",
       "<tr>\n",
       "  <th>week_budget_density_count</th>  <td>   -1.4211</td> <td>    1.212</td> <td>   -1.172</td> <td> 0.242</td> <td>   -3.803     0.961</td>\n",
       "</tr>\n",
       "<tr>\n",
       "  <th>month_budget_density_count</th> <td>    0.6148</td> <td>    0.555</td> <td>    1.107</td> <td> 0.269</td> <td>   -0.476     1.706</td>\n",
       "</tr>\n",
       "</table>\n",
       "<table class=\"simpletable\">\n",
       "<tr>\n",
       "  <th>Omnibus:</th>       <td>288.061</td> <th>  Durbin-Watson:     </th> <td>   1.332</td>\n",
       "</tr>\n",
       "<tr>\n",
       "  <th>Prob(Omnibus):</th> <td> 0.000</td>  <th>  Jarque-Bera (JB):  </th> <td>3505.996</td>\n",
       "</tr>\n",
       "<tr>\n",
       "  <th>Skew:</th>          <td> 2.263</td>  <th>  Prob(JB):          </th> <td>    0.00</td>\n",
       "</tr>\n",
       "<tr>\n",
       "  <th>Kurtosis:</th>      <td>15.158</td>  <th>  Cond. No.          </th> <td>2.48e+03</td>\n",
       "</tr>\n",
       "</table>"
      ],
      "text/plain": [
       "<class 'statsmodels.iolib.summary.Summary'>\n",
       "\"\"\"\n",
       "                            OLS Regression Results                            \n",
       "==============================================================================\n",
       "Dep. Variable:          weekend_gross   R-squared:                       0.584\n",
       "Model:                            OLS   Adj. R-squared:                  0.559\n",
       "Method:                 Least Squares   F-statistic:                     23.62\n",
       "Date:                Fri, 22 Apr 2016   Prob (F-statistic):           2.93e-72\n",
       "Time:                        15:40:09   Log-Likelihood:                -2197.6\n",
       "No. Observations:                 500   AIC:                             4453.\n",
       "Df Residuals:                     471   BIC:                             4575.\n",
       "Df Model:                          28                                         \n",
       "Covariance Type:            nonrobust                                         \n",
       "==============================================================================================\n",
       "                                 coef    std err          t      P>|t|      [95.0% Conf. Int.]\n",
       "----------------------------------------------------------------------------------------------\n",
       "Intercept                      2.6182      5.031      0.520      0.603        -7.268    12.504\n",
       "genre[T.Adventure]           -34.2472      8.840     -3.874      0.000       -51.617   -16.877\n",
       "genre[T.Animation]           -23.3875      4.442     -5.266      0.000       -32.115   -14.660\n",
       "genre[T.Comedy]               -3.0398      3.233     -0.940      0.348        -9.393     3.314\n",
       "genre[T.Concert]              -2.3394     14.820     -0.158      0.875       -31.460    26.781\n",
       "genre[T.Crime]               -15.8112      7.095     -2.228      0.026       -29.754    -1.869\n",
       "genre[T.Documentary]          -2.6764     12.272     -0.218      0.827       -26.792    21.439\n",
       "genre[T.Drama]               -12.4654      3.905     -3.192      0.002       -20.140    -4.791\n",
       "genre[T.Family]              -27.7245      6.461     -4.291      0.000       -40.421   -15.028\n",
       "genre[T.Fantasy]             -27.1269      6.600     -4.110      0.000       -40.096   -14.158\n",
       "genre[T.Foreign]             -32.7027     10.800     -3.028      0.003       -53.924   -11.481\n",
       "genre[T.Historical]          -30.3627     14.824     -2.048      0.041       -59.492    -1.234\n",
       "genre[T.Horror]               -1.4552      4.557     -0.319      0.750       -10.409     7.499\n",
       "genre[T.Music]                -5.2775     14.706     -0.359      0.720       -34.175    23.620\n",
       "genre[T.Musical]             -14.7040      7.901     -1.861      0.063       -30.229     0.821\n",
       "genre[T.Period]              -16.5243     10.599     -1.559      0.120       -37.351     4.303\n",
       "genre[T.Romance]              19.2878      7.551      2.554      0.011         4.450    34.126\n",
       "genre[T.Romantic]            -12.4533      7.541     -1.651      0.099       -27.271     2.365\n",
       "genre[T.Sci-Fi]              -14.5366      3.938     -3.691      0.000       -22.275    -6.798\n",
       "genre[T.Sports]              -17.1424      8.369     -2.048      0.041       -33.588    -0.697\n",
       "genre[T.Thriller]             -8.2826      4.613     -1.795      0.073       -17.348     0.782\n",
       "genre[T.War]                 -17.0007     12.158     -1.398      0.163       -40.891     6.889\n",
       "genre[T.Western]             -43.1360     12.146     -3.551      0.000       -67.004   -19.268\n",
       "budget                         0.3288      0.023     14.042      0.000         0.283     0.375\n",
       "in_release_days                0.2233      0.028      7.982      0.000         0.168     0.278\n",
       "week_genre_density_count      -0.8027      1.438     -0.558      0.577        -3.628     2.023\n",
       "month_genre_density_count     -2.1822      0.806     -2.708      0.007        -3.766    -0.599\n",
       "week_budget_density_count     -1.4211      1.212     -1.172      0.242        -3.803     0.961\n",
       "month_budget_density_count     0.6148      0.555      1.107      0.269        -0.476     1.706\n",
       "==============================================================================\n",
       "Omnibus:                      288.061   Durbin-Watson:                   1.332\n",
       "Prob(Omnibus):                  0.000   Jarque-Bera (JB):             3505.996\n",
       "Skew:                           2.263   Prob(JB):                         0.00\n",
       "Kurtosis:                      15.158   Cond. No.                     2.48e+03\n",
       "==============================================================================\n",
       "\n",
       "Warnings:\n",
       "[1] Standard Errors assume that the covariance matrix of the errors is correctly specified.\n",
       "[2] The condition number is large, 2.48e+03. This might indicate that there are\n",
       "strong multicollinearity or other numerical problems.\n",
       "\"\"\""
      ]
     },
     "execution_count": 492,
     "metadata": {},
     "output_type": "execute_result"
    }
   ],
   "source": [
    "lm2 = smf.ols('weekend_gross ~ budget + genre + in_release_days + week_genre_density_count + month_genre_density_count + week_budget_density_count + month_budget_density_count',data=DF3)\n",
    "fit2 = lm2.fit()\n",
    "fit2.summary()"
   ]
  },
  {
   "cell_type": "code",
   "execution_count": null,
   "metadata": {
    "collapsed": true
   },
   "outputs": [],
   "source": []
  },
  {
   "cell_type": "code",
   "execution_count": null,
   "metadata": {
    "collapsed": true
   },
   "outputs": [],
   "source": []
  }
 ],
 "metadata": {
  "kernelspec": {
   "display_name": "Python 3",
   "language": "python",
   "name": "python3"
  },
  "language_info": {
   "codemirror_mode": {
    "name": "ipython",
    "version": 3
   },
   "file_extension": ".py",
   "mimetype": "text/x-python",
   "name": "python",
   "nbconvert_exporter": "python",
   "pygments_lexer": "ipython3",
   "version": "3.5.1"
  }
 },
 "nbformat": 4,
 "nbformat_minor": 0
}
